{
 "cells": [
  {
   "attachments": {},
   "cell_type": "markdown",
   "metadata": {},
   "source": [
    "# Using OpenSTL in your own project\n",
    "\n",
    "In this notebook, we will provide a comprehensive guide on how to use OpenSTL for your own project. \n",
    "\n",
    "Firstly, we will process video data into `.npy` format for easier storage and access. Next, we will demonstrate how to utilize custom data within OpenSTL. Subsequently, we will use OpenSTL to train and evaluate models. Finally, we will visualize predicted frames and generate `.gif` images or videos. \n",
    "\n",
    "- [1. Preprocess your data](#1-process-your-data)\n",
    "    - [1.1 Save the dataset](#11-save-the-dataset)\n",
    "    - [1.2 Load the dataset and visualize an example](#12-load-the-dataset-and-visualize-an-example)\n",
    "\n",
    "- [2. Utilize cumtom data](#2-utilize-cumtom-data)\n",
    "    - [2.1 Define the dataset](#21-define-the-dataset)\n",
    "    - [2.2 Get the dataloaders](#22-get-the-dataloaders)\n",
    "\n",
    "- [3. Train and evaluate](#3-train-and-evaluate)\n",
    "    - [3.1 Define the custom configs](#31-define-the-custom-configs)\n",
    "    - [3.2 Setup the experiment](#32-setup-the-experiment)\n",
    "    - [3.3 Start training and evaluation](#33)\n",
    "\n",
    "- [4. Visualization](#4-visualization)\n",
    "    - [4.1 Visualize in a line](#41-visualize-in-a-line)\n",
    "    - [4.2 Generate a GIF](#42-generate-a-gif)\n",
    "\n",
    "Here we go!"
   ]
  },
  {
   "attachments": {},
   "cell_type": "markdown",
   "metadata": {},
   "source": [
    "## 1. Process your data\n",
    "\n",
    "Assume you possess a collection of videos and have already sorted them into the `train/`, `val/`, and `test/` directories. The subsequent step involves transforming these videos into a `.pkl` file for further manipulations.\n",
    "\n",
    "The existing file hierarchy is as follows:\n",
    "\n",
    "- custom_usage.ipynb\n",
    "- train\n",
    "  - train_example1.avi\n",
    "  - train_example2.avi\n",
    "- val\n",
    "  - val_example1.avi\n",
    "  - val_example2.avi\n",
    "- test\n",
    "  - test_example.avi\n",
    "\n",
    "It's crucial to note that the above example represents a simplified scenario where we've used `.avi` videos for illustrative purposes. However, in a real-world application, you are free to employ videos in various other formats.\n",
    "\n",
    "We utilize several videos from the KTH dataset as examples. Although the original KTH dataset consists of single-channel grayscale videos, we save them as three-channel RGB videos to accommodate a broader range of use cases."
   ]
  },
  {
   "attachments": {},
   "cell_type": "markdown",
   "metadata": {},
   "source": [
    "### 1.1 Save the dataset\n",
    "\n",
    "Here, we default to uniformly sampling several frames from the given video data. The number of observed frames and future frames are two hyperparameters (`pre_seq_length`, `aft_seq_length`) that are set in advance. You can also choose to sample the video in other ways and save the data."
   ]
  },
  {
   "attachments": {},
   "cell_type": "markdown",
   "metadata": {},
   "source": [
    "#### hyperparameters\n",
    "\n",
    "`pre_seq_length`: the number of given frames\n",
    "\n",
    "`aft_seq_length`: the number of frames to predict"
   ]
  },
  {
   "cell_type": "code",
   "execution_count": 1,
   "metadata": {},
   "outputs": [],
   "source": [
    "pre_seq_length = 10\n",
    "aft_seq_length = 20"
   ]
  },
  {
   "cell_type": "code",
   "execution_count": 2,
   "metadata": {},
   "outputs": [],
   "source": [
    "import cv2\n",
    "import numpy as np\n",
    "import os\n",
    "\n",
    "def sample_frames(video_path, num_frames=20):\n",
    "    # read the video\n",
    "    video = cv2.VideoCapture(video_path)\n",
    "    total_frames = int(video.get(cv2.CAP_PROP_FRAME_COUNT))\n",
    "    # uniformly sample frames from the video\n",
    "    frame_idxs = np.linspace(0, total_frames-1, num_frames, dtype=int)\n",
    "    frames = []\n",
    "    for idx in frame_idxs:\n",
    "        video.set(cv2.CAP_PROP_POS_FRAMES, idx)\n",
    "        _, frame = video.read()\n",
    "        # frame = cv2.resize(frame, (height, width))\n",
    "        frames.append(frame)\n",
    "    video.release()\n",
    "    return np.stack(frames)\n",
    "\n",
    "def process_folder(folder_path, pre_slen=10, aft_slen=10, suffix='.avi'):\n",
    "    # get all the videos in this folder\n",
    "    videos = []\n",
    "    files = os.listdir(folder_path)\n",
    "    for file in files:\n",
    "        video_path = os.path.join(folder_path, file)\n",
    "        if os.path.isfile(video_path) and file.endswith(suffix):\n",
    "            video = sample_frames(video_path, pre_slen + aft_slen)\n",
    "            videos.append(video)\n",
    "    # stack video frames from each folder\n",
    "    data = np.stack(videos).transpose(0, 1, 4, 2, 3)\n",
    "\n",
    "    # if the data is in [0, 255], rescale it into [0, 1]\n",
    "    if data.max() > 1.0:\n",
    "        data = data.astype(np.float32) / 255.0\n",
    "\n",
    "    return data[:, :pre_slen], data[:, pre_slen:]"
   ]
  },
  {
   "cell_type": "code",
   "execution_count": 3,
   "metadata": {},
   "outputs": [],
   "source": [
    "import pickle\n",
    "\n",
    "dataset = {}\n",
    "folders = ['train', 'val', 'test']\n",
    "for folder in folders:\n",
    "    data_x, data_y = process_folder(folder, pre_slen=pre_seq_length, aft_slen=aft_seq_length, suffix='.avi')\n",
    "    dataset['X_' + folder], dataset['Y_' + folder] = data_x, data_y\n",
    "\n",
    "# save as a pkl file\n",
    "with open('dataset.pkl', 'wb') as f:\n",
    "    pickle.dump(dataset, f)"
   ]
  },
  {
   "attachments": {},
   "cell_type": "markdown",
   "metadata": {},
   "source": [
    "### 1.2 Load the dataset and visualize an example"
   ]
  },
  {
   "cell_type": "code",
   "execution_count": 4,
   "metadata": {},
   "outputs": [
    {
     "name": "stdout",
     "output_type": "stream",
     "text": [
      "(2, 10, 3, 32, 32)\n"
     ]
    }
   ],
   "source": [
    "import pickle\n",
    "\n",
    "# load the dataset\n",
    "with open('dataset.pkl', 'rb') as f:\n",
    "    dataset = pickle.load(f)\n",
    "\n",
    "train_x, train_y = dataset['X_train'], dataset['Y_train']\n",
    "print(train_x.shape)\n",
    "# the shape is B x T x C x H x W\n",
    "# B: the number of samples\n",
    "# T: the number of frames in each sample\n",
    "# C, H, W: the height, width, channel of each frame"
   ]
  },
  {
   "cell_type": "code",
   "execution_count": 5,
   "metadata": {},
   "outputs": [
    {
     "data": {
      "image/png": "[encoded data removed]",
      "text/plain": [
       "<Figure size 2340x216 with 10 Axes>"
      ]
     },
     "metadata": {
      "needs_background": "light"
     },
     "output_type": "display_data"
    }
   ],
   "source": [
    "from openstl.utils import show_video_line\n",
    "\n",
    "# show the given frames from an example\n",
    "example_idx = 0\n",
    "show_video_line(train_x[example_idx], ncols=pre_seq_length, vmax=0.6, cbar=False, out_path=None, format='png', use_rgb=True)"
   ]
  },
  {
   "cell_type": "code",
   "execution_count": 6,
   "metadata": {},
   "outputs": [
    {
     "data": {
      "image/png": "[encoded data removed]",
      "text/plain": [
       "<Figure size 4680x216 with 20 Axes>"
      ]
     },
     "metadata": {
      "needs_background": "light"
     },
     "output_type": "display_data"
    }
   ],
   "source": [
    "# show the future frames from an example\n",
    "example_idx = 0\n",
    "show_video_line(train_y[example_idx], ncols=aft_seq_length, vmax=0.6, cbar=False, out_path=None, format='png', use_rgb=True)"
   ]
  },
  {
   "attachments": {},
   "cell_type": "markdown",
   "metadata": {},
   "source": [
    "## 2. Utilize cumtom data"
   ]
  },
  {
   "attachments": {},
   "cell_type": "markdown",
   "metadata": {},
   "source": [
    "### 2.1 Define the dataset\n",
    "\n",
    "We first define the `CustomDataset` to use the provided dataset. \n",
    "\n",
    "For real video prediction, to facilitate model optimization, we strongly recommend users to use frames represented as `float32` with values in the range of $[0, 1]$, rather than frames represented as `uint8` with values in the range of $[0, 255]$. For other types of data, we also provide the option to `normalize` in the `CustomDataset`."
   ]
  },
  {
   "cell_type": "code",
   "execution_count": 7,
   "metadata": {},
   "outputs": [],
   "source": [
    "import torch\n",
    "from torch.utils.data import Dataset\n",
    "\n",
    "\n",
    "class CustomDataset(Dataset):\n",
    "    def __init__(self, X, Y, normalize=False):\n",
    "        super(CustomDataset, self).__init__()\n",
    "        self.X = X\n",
    "        self.Y = Y\n",
    "        self.mean = None\n",
    "        self.std = None\n",
    "\n",
    "        if normalize:\n",
    "            # get the mean/std values along the channel dimension\n",
    "            mean = data.mean(axis=(0, 1, 2, 3)).reshape(1, 1, -1, 1, 1)\n",
    "            std = data.std(axis=(0, 1, 2, 3)).reshape(1, 1, -1, 1, 1)\n",
    "            data = (data - mean) / std\n",
    "            self.mean = mean\n",
    "            self.std = std\n",
    "\n",
    "    def __len__(self):\n",
    "        return self.X.shape[0]\n",
    "\n",
    "    def __getitem__(self, index):\n",
    "        data = torch.tensor(self.X[index]).float()\n",
    "        labels = torch.tensor(self.Y[index]).float()\n",
    "        return data, labels"
   ]
  },
  {
   "attachments": {},
   "cell_type": "markdown",
   "metadata": {},
   "source": [
    "### 2.2 Get the dataloaders\n",
    "\n",
    "Now we can get the dataloaders by using the collected dataset and the defined `CustomDataset`."
   ]
  },
  {
   "attachments": {},
   "cell_type": "markdown",
   "metadata": {},
   "source": [
    "#### hyperparameters\n",
    "\n",
    "`batch_size`: the size of a batch"
   ]
  },
  {
   "cell_type": "code",
   "execution_count": 8,
   "metadata": {},
   "outputs": [],
   "source": [
    "batch_size = 1"
   ]
  },
  {
   "cell_type": "code",
   "execution_count": 9,
   "metadata": {},
   "outputs": [],
   "source": [
    "X_train, X_val, X_test, Y_train, Y_val, Y_test = dataset['X_train'], dataset[\n",
    "    'X_val'], dataset['X_test'], dataset['Y_train'], dataset['Y_val'], dataset['Y_test']\n",
    "\n",
    "train_set = CustomDataset(X=X_train, Y=Y_train)\n",
    "val_set = CustomDataset(X=X_val, Y=Y_val)\n",
    "test_set = CustomDataset(X=X_test, Y=Y_test)"
   ]
  },
  {
   "cell_type": "code",
   "execution_count": 10,
   "metadata": {},
   "outputs": [],
   "source": [
    "dataloader_train = torch.utils.data.DataLoader(\n",
    "    train_set, batch_size=batch_size, shuffle=True, pin_memory=True)\n",
    "dataloader_val = torch.utils.data.DataLoader(\n",
    "    val_set, batch_size=batch_size, shuffle=True, pin_memory=True)\n",
    "dataloader_test = torch.utils.data.DataLoader(\n",
    "    test_set, batch_size=batch_size, shuffle=True, pin_memory=True)"
   ]
  },
  {
   "attachments": {},
   "cell_type": "markdown",
   "metadata": {},
   "source": [
    "## 3. Train and evaluate"
   ]
  },
  {
   "attachments": {},
   "cell_type": "markdown",
   "metadata": {},
   "source": [
    "### 3.1 Define the custom configs\n",
    "\n",
    "We first define the training configuration, which includes several important hyperparameters for training.\n",
    "\n",
    "Here, we set `epoch = 3` as an example for simple training. The actual value of epoch in your project depends on the complexity of your dataset. Generally, a good starting point is `epoch = 100`.\n",
    "\n",
    "Next, we define the model configuration to customize a spatio-temporal predictive learning model. For MetaVP models, the key hyperparameters are: `N_S`, `N_T`, `hid_S`, `hid_T`, and `model_type`. Users have the option to either use a config file or directly set these hyperparameters.\n",
    "\n",
    "If a config file is preferred, the user can simply include a `config_file` key with the path to the config file in the `custom_model_config` below. Otherwise, the user can directly specify these hyperparameters in the `custom_model_config`."
   ]
  },
  {
   "cell_type": "code",
   "execution_count": 11,
   "metadata": {},
   "outputs": [],
   "source": [
    "custom_training_config = {\n",
    "    'pre_seq_length': pre_seq_length,\n",
    "    'aft_seq_length': aft_seq_length,\n",
    "    'total_length': pre_seq_length + aft_seq_length,\n",
    "    'batch_size': batch_size,\n",
    "    'val_batch_size': batch_size,\n",
    "    'epoch': 3,\n",
    "    'lr': 0.001,   \n",
    "    'metrics': ['mse', 'mae'],\n",
    "\n",
    "    'ex_name': 'custom_exp',\n",
    "    'dataname': 'custom',\n",
    "    'in_shape': [10, 3, 32, 32],\n",
    "}\n",
    "\n",
    "custom_model_config = {\n",
    "    # For MetaVP models, the most important hyperparameters are: \n",
    "    # N_S, N_T, hid_S, hid_T, model_type\n",
    "    'method': 'SimVP',\n",
    "    # Users can either using a config file or directly set these hyperparameters \n",
    "    # 'config_file': 'configs/custom/example_model.py',\n",
    "    \n",
    "    # Here, we directly set these parameters\n",
    "    'model_type': 'gSTA',\n",
    "    'N_S': 4,\n",
    "    'N_T': 8,\n",
    "    'hid_S': 64,\n",
    "    'hid_T': 256\n",
    "}"
   ]
  },
  {
   "attachments": {},
   "cell_type": "markdown",
   "metadata": {},
   "source": [
    "### 3.2 Setup the experiment\n",
    "\n",
    "We retrieve the default hyperparameters by utilizing `create_parser` and update those hyperparameters that are defined in `custom_training_config` and `custom_model_config`. \n",
    "\n",
    "By utilizing `BaseExperiment`, we ensure that everything is prepared, including dataloader setup and model initialization."
   ]
  },
  {
   "cell_type": "code",
   "execution_count": 12,
   "metadata": {},
   "outputs": [
    {
     "name": "stdout",
     "output_type": "stream",
     "text": [
      "Use non-distributed mode with GPU: cuda:0\n",
      "Environment info:\n",
      "------------------------------------------------------------\n",
      "sys.platform: linux\n",
      "Python: 3.9.9 | packaged by conda-forge | (main, Dec 20 2021, 02:40:17) [GCC 9.4.0]\n",
      "CUDA available: True\n",
      "CUDA_HOME: /usr/local/cuda\n",
      "NVCC: Build cuda_11.0_bu.TC445_37.28845127_0\n",
      "GPU 0,1: NVIDIA A100-SXM4-80GB\n",
      "GCC: gcc (Ubuntu 7.5.0-3ubuntu1~18.04) 7.5.0\n",
      "PyTorch: 1.7.1\n",
      "PyTorch compiling details: PyTorch built with:\n",
      "  - GCC 7.3\n",
      "  - C++ Version: 201402\n",
      "  - Intel(R) Math Kernel Library Version 2020.0.2 Product Build 20200624 for Intel(R) 64 architecture applications\n",
      "  - Intel(R) MKL-DNN v1.6.0 (Git Hash 5ef631a030a6f73131c77892041042805a06064f)\n",
      "  - OpenMP 201511 (a.k.a. OpenMP 4.5)\n",
      "  - NNPACK is enabled\n",
      "  - CPU capability usage: AVX2\n",
      "  - CUDA Runtime 11.0\n",
      "  - NVCC architecture flags: -gencode;arch=compute_37,code=sm_37;-gencode;arch=compute_50,code=sm_50;-gencode;arch=compute_60,code=sm_60;-gencode;arch=compute_61,code=sm_61;-gencode;arch=compute_70,code=sm_70;-gencode;arch=compute_75,code=sm_75;-gencode;arch=compute_80,code=sm_80;-gencode;arch=compute_37,code=compute_37\n",
      "  - CuDNN 8.0.5\n",
      "  - Magma 2.5.2\n",
      "  - Build settings: BLAS=MKL, BUILD_TYPE=Release, CXX_FLAGS= -Wno-deprecated -fvisibility-inlines-hidden -DUSE_PTHREADPOOL -fopenmp -DNDEBUG -DUSE_FBGEMM -DUSE_QNNPACK -DUSE_PYTORCH_QNNPACK -DUSE_XNNPACK -DUSE_VULKAN_WRAPPER -O2 -fPIC -Wno-narrowing -Wall -Wextra -Werror=return-type -Wno-missing-field-initializers -Wno-type-limits -Wno-array-bounds -Wno-unknown-pragmas -Wno-sign-compare -Wno-unused-parameter -Wno-unused-variable -Wno-unused-function -Wno-unused-result -Wno-unused-local-typedefs -Wno-strict-overflow -Wno-strict-aliasing -Wno-error=deprecated-declarations -Wno-stringop-overflow -Wno-psabi -Wno-error=pedantic -Wno-error=redundant-decls -Wno-error=old-style-cast -fdiagnostics-color=always -faligned-new -Wno-unused-but-set-variable -Wno-maybe-uninitialized -fno-math-errno -fno-trapping-math -Werror=format -Wno-stringop-overflow, PERF_WITH_AVX=1, PERF_WITH_AVX2=1, PERF_WITH_AVX512=1, USE_CUDA=ON, USE_EXCEPTION_PTR=1, USE_GFLAGS=OFF, USE_GLOG=OFF, USE_MKL=ON, USE_MKLDNN=ON, USE_MPI=OFF, USE_NCCL=ON, USE_NNPACK=ON, USE_OPENMP=ON, \n",
      "\n",
      "TorchVision: 0.8.0a0\n",
      "OpenCV: 4.5.5\n",
      "openstl: 0.3.0\n",
      "------------------------------------------------------------\n",
      "\n",
      "\n",
      "device: \tcuda\t\n",
      "dist: \tFalse\t\n",
      "display_step: \t10\t\n",
      "res_dir: \twork_dirs\t\n",
      "ex_name: \tcustom_exp\t\n",
      "use_gpu: \tTrue\t\n",
      "fp16: \tFalse\t\n",
      "torchscript: \tFalse\t\n",
      "seed: \t42\t\n",
      "diff_seed: \tFalse\t\n",
      "fps: \tFalse\t\n",
      "empty_cache: \tTrue\t\n",
      "find_unused_parameters: \tFalse\t\n",
      "broadcast_buffers: \tTrue\t\n",
      "resume_from: \tNone\t\n",
      "auto_resume: \tFalse\t\n",
      "test: \tFalse\t\n",
      "deterministic: \tFalse\t\n",
      "launcher: \tnone\t\n",
      "local_rank: \t0\t\n",
      "port: \t29500\t\n",
      "batch_size: \t1\t\n",
      "val_batch_size: \t1\t\n",
      "num_workers: \t4\t\n",
      "data_root: \t./data\t\n",
      "dataname: \tcustom\t\n",
      "pre_seq_length: \t10\t\n",
      "aft_seq_length: \t20\t\n",
      "total_length: \t30\t\n",
      "use_augment: \tFalse\t\n",
      "use_prefetcher: \tFalse\t\n",
      "drop_last: \tFalse\t\n",
      "method: \tsimvp\t\n",
      "config_file: \tconfigs/mmnist/simvp/SimVP_gSTA.py\t\n",
      "model_type: \tgSTA\t\n",
      "drop: \t0.0\t\n",
      "drop_path: \t0.0\t\n",
      "overwrite: \tFalse\t\n",
      "epoch: \t3\t\n",
      "log_step: \t1\t\n",
      "opt: \tadam\t\n",
      "opt_eps: \tNone\t\n",
      "opt_betas: \tNone\t\n",
      "momentum: \t0.9\t\n",
      "weight_decay: \t0.0\t\n",
      "clip_grad: \tNone\t\n",
      "clip_mode: \tnorm\t\n",
      "sched: \tonecycle\t\n",
      "lr: \t0.001\t\n",
      "lr_k_decay: \t1.0\t\n",
      "warmup_lr: \t1e-05\t\n",
      "min_lr: \t1e-06\t\n",
      "final_div_factor: \t10000.0\t\n",
      "warmup_epoch: \t0\t\n",
      "decay_epoch: \t100\t\n",
      "decay_rate: \t0.1\t\n",
      "filter_bias_and_bn: \tFalse\t\n",
      "metrics: \t['mse', 'mae']\t\n",
      "in_shape: \t[10, 3, 32, 32]\t\n",
      "N_S: \t4\t\n",
      "N_T: \t8\t\n",
      "hid_S: \t64\t\n",
      "hid_T: \t256\t\n",
      "Model info:\n",
      "SimVP_Model(\n",
      "  (enc): Encoder(\n",
      "    (enc): Sequential(\n",
      "      (0): ConvSC(\n",
      "        (conv): BasicConv2d(\n",
      "          (conv): Conv2d(3, 64, kernel_size=(3, 3), stride=(1, 1), padding=(1, 1))\n",
      "          (norm): GroupNorm(2, 64, eps=1e-05, affine=True)\n",
      "          (act): SiLU()\n",
      "        )\n",
      "      )\n",
      "      (1): ConvSC(\n",
      "        (conv): BasicConv2d(\n",
      "          (conv): Conv2d(64, 64, kernel_size=(3, 3), stride=(2, 2), padding=(1, 1))\n",
      "          (norm): GroupNorm(2, 64, eps=1e-05, affine=True)\n",
      "          (act): SiLU()\n",
      "        )\n",
      "      )\n",
      "      (2): ConvSC(\n",
      "        (conv): BasicConv2d(\n",
      "          (conv): Conv2d(64, 64, kernel_size=(3, 3), stride=(1, 1), padding=(1, 1))\n",
      "          (norm): GroupNorm(2, 64, eps=1e-05, affine=True)\n",
      "          (act): SiLU()\n",
      "        )\n",
      "      )\n",
      "      (3): ConvSC(\n",
      "        (conv): BasicConv2d(\n",
      "          (conv): Conv2d(64, 64, kernel_size=(3, 3), stride=(2, 2), padding=(1, 1))\n",
      "          (norm): GroupNorm(2, 64, eps=1e-05, affine=True)\n",
      "          (act): SiLU()\n",
      "        )\n",
      "      )\n",
      "    )\n",
      "  )\n",
      "  (dec): Decoder(\n",
      "    (dec): Sequential(\n",
      "      (0): ConvSC(\n",
      "        (conv): BasicConv2d(\n",
      "          (conv): Sequential(\n",
      "            (0): Conv2d(64, 256, kernel_size=(3, 3), stride=(1, 1), padding=(1, 1))\n",
      "            (1): PixelShuffle(upscale_factor=2)\n",
      "          )\n",
      "          (norm): GroupNorm(2, 64, eps=1e-05, affine=True)\n",
      "          (act): SiLU()\n",
      "        )\n",
      "      )\n",
      "      (1): ConvSC(\n",
      "        (conv): BasicConv2d(\n",
      "          (conv): Conv2d(64, 64, kernel_size=(3, 3), stride=(1, 1), padding=(1, 1))\n",
      "          (norm): GroupNorm(2, 64, eps=1e-05, affine=True)\n",
      "          (act): SiLU()\n",
      "        )\n",
      "      )\n",
      "      (2): ConvSC(\n",
      "        (conv): BasicConv2d(\n",
      "          (conv): Sequential(\n",
      "            (0): Conv2d(64, 256, kernel_size=(3, 3), stride=(1, 1), padding=(1, 1))\n",
      "            (1): PixelShuffle(upscale_factor=2)\n",
      "          )\n",
      "          (norm): GroupNorm(2, 64, eps=1e-05, affine=True)\n",
      "          (act): SiLU()\n",
      "        )\n",
      "      )\n",
      "      (3): ConvSC(\n",
      "        (conv): BasicConv2d(\n",
      "          (conv): Conv2d(64, 64, kernel_size=(3, 3), stride=(1, 1), padding=(1, 1))\n",
      "          (norm): GroupNorm(2, 64, eps=1e-05, affine=True)\n",
      "          (act): SiLU()\n",
      "        )\n",
      "      )\n",
      "    )\n",
      "    (readout): Conv2d(64, 3, kernel_size=(1, 1), stride=(1, 1))\n",
      "  )\n",
      "  (hid): MidMetaNet(\n",
      "    (enc): Sequential(\n",
      "      (0): MetaBlock(\n",
      "        (block): GASubBlock(\n",
      "          (norm1): BatchNorm2d(640, eps=1e-05, momentum=0.1, affine=True, track_running_stats=True)\n",
      "          (attn): SpatialAttention(\n",
      "            (proj_1): Conv2d(640, 640, kernel_size=(1, 1), stride=(1, 1))\n",
      "            (activation): GELU()\n",
      "            (spatial_gating_unit): AttentionModule(\n",
      "              (conv0): Conv2d(640, 640, kernel_size=(5, 5), stride=(1, 1), padding=(2, 2), groups=640)\n",
      "              (conv_spatial): Conv2d(640, 640, kernel_size=(7, 7), stride=(1, 1), padding=(9, 9), dilation=(3, 3), groups=640)\n",
      "              (conv1): Conv2d(640, 1280, kernel_size=(1, 1), stride=(1, 1))\n",
      "            )\n",
      "            (proj_2): Conv2d(640, 640, kernel_size=(1, 1), stride=(1, 1))\n",
      "          )\n",
      "          (drop_path): DropPath()\n",
      "          (norm2): BatchNorm2d(640, eps=1e-05, momentum=0.1, affine=True, track_running_stats=True)\n",
      "          (mlp): MixMlp(\n",
      "            (fc1): Conv2d(640, 5120, kernel_size=(1, 1), stride=(1, 1))\n",
      "            (dwconv): DWConv(\n",
      "              (dwconv): Conv2d(5120, 5120, kernel_size=(3, 3), stride=(1, 1), padding=(1, 1), groups=5120)\n",
      "            )\n",
      "            (act): GELU()\n",
      "            (fc2): Conv2d(5120, 640, kernel_size=(1, 1), stride=(1, 1))\n",
      "            (drop): Dropout(p=0.0, inplace=False)\n",
      "          )\n",
      "        )\n",
      "        (reduction): Conv2d(640, 256, kernel_size=(1, 1), stride=(1, 1))\n",
      "      )\n",
      "      (1): MetaBlock(\n",
      "        (block): GASubBlock(\n",
      "          (norm1): BatchNorm2d(256, eps=1e-05, momentum=0.1, affine=True, track_running_stats=True)\n",
      "          (attn): SpatialAttention(\n",
      "            (proj_1): Conv2d(256, 256, kernel_size=(1, 1), stride=(1, 1))\n",
      "            (activation): GELU()\n",
      "            (spatial_gating_unit): AttentionModule(\n",
      "              (conv0): Conv2d(256, 256, kernel_size=(5, 5), stride=(1, 1), padding=(2, 2), groups=256)\n",
      "              (conv_spatial): Conv2d(256, 256, kernel_size=(7, 7), stride=(1, 1), padding=(9, 9), dilation=(3, 3), groups=256)\n",
      "              (conv1): Conv2d(256, 512, kernel_size=(1, 1), stride=(1, 1))\n",
      "            )\n",
      "            (proj_2): Conv2d(256, 256, kernel_size=(1, 1), stride=(1, 1))\n",
      "          )\n",
      "          (drop_path): DropPath()\n",
      "          (norm2): BatchNorm2d(256, eps=1e-05, momentum=0.1, affine=True, track_running_stats=True)\n",
      "          (mlp): MixMlp(\n",
      "            (fc1): Conv2d(256, 2048, kernel_size=(1, 1), stride=(1, 1))\n",
      "            (dwconv): DWConv(\n",
      "              (dwconv): Conv2d(2048, 2048, kernel_size=(3, 3), stride=(1, 1), padding=(1, 1), groups=2048)\n",
      "            )\n",
      "            (act): GELU()\n",
      "            (fc2): Conv2d(2048, 256, kernel_size=(1, 1), stride=(1, 1))\n",
      "            (drop): Dropout(p=0.0, inplace=False)\n",
      "          )\n",
      "        )\n",
      "      )\n",
      "      (2): MetaBlock(\n",
      "        (block): GASubBlock(\n",
      "          (norm1): BatchNorm2d(256, eps=1e-05, momentum=0.1, affine=True, track_running_stats=True)\n",
      "          (attn): SpatialAttention(\n",
      "            (proj_1): Conv2d(256, 256, kernel_size=(1, 1), stride=(1, 1))\n",
      "            (activation): GELU()\n",
      "            (spatial_gating_unit): AttentionModule(\n",
      "              (conv0): Conv2d(256, 256, kernel_size=(5, 5), stride=(1, 1), padding=(2, 2), groups=256)\n",
      "              (conv_spatial): Conv2d(256, 256, kernel_size=(7, 7), stride=(1, 1), padding=(9, 9), dilation=(3, 3), groups=256)\n",
      "              (conv1): Conv2d(256, 512, kernel_size=(1, 1), stride=(1, 1))\n",
      "            )\n",
      "            (proj_2): Conv2d(256, 256, kernel_size=(1, 1), stride=(1, 1))\n",
      "          )\n",
      "          (drop_path): DropPath()\n",
      "          (norm2): BatchNorm2d(256, eps=1e-05, momentum=0.1, affine=True, track_running_stats=True)\n",
      "          (mlp): MixMlp(\n",
      "            (fc1): Conv2d(256, 2048, kernel_size=(1, 1), stride=(1, 1))\n",
      "            (dwconv): DWConv(\n",
      "              (dwconv): Conv2d(2048, 2048, kernel_size=(3, 3), stride=(1, 1), padding=(1, 1), groups=2048)\n",
      "            )\n",
      "            (act): GELU()\n",
      "            (fc2): Conv2d(2048, 256, kernel_size=(1, 1), stride=(1, 1))\n",
      "            (drop): Dropout(p=0.0, inplace=False)\n",
      "          )\n",
      "        )\n",
      "      )\n",
      "      (3): MetaBlock(\n",
      "        (block): GASubBlock(\n",
      "          (norm1): BatchNorm2d(256, eps=1e-05, momentum=0.1, affine=True, track_running_stats=True)\n",
      "          (attn): SpatialAttention(\n",
      "            (proj_1): Conv2d(256, 256, kernel_size=(1, 1), stride=(1, 1))\n",
      "            (activation): GELU()\n",
      "            (spatial_gating_unit): AttentionModule(\n",
      "              (conv0): Conv2d(256, 256, kernel_size=(5, 5), stride=(1, 1), padding=(2, 2), groups=256)\n",
      "              (conv_spatial): Conv2d(256, 256, kernel_size=(7, 7), stride=(1, 1), padding=(9, 9), dilation=(3, 3), groups=256)\n",
      "              (conv1): Conv2d(256, 512, kernel_size=(1, 1), stride=(1, 1))\n",
      "            )\n",
      "            (proj_2): Conv2d(256, 256, kernel_size=(1, 1), stride=(1, 1))\n",
      "          )\n",
      "          (drop_path): DropPath()\n",
      "          (norm2): BatchNorm2d(256, eps=1e-05, momentum=0.1, affine=True, track_running_stats=True)\n",
      "          (mlp): MixMlp(\n",
      "            (fc1): Conv2d(256, 2048, kernel_size=(1, 1), stride=(1, 1))\n",
      "            (dwconv): DWConv(\n",
      "              (dwconv): Conv2d(2048, 2048, kernel_size=(3, 3), stride=(1, 1), padding=(1, 1), groups=2048)\n",
      "            )\n",
      "            (act): GELU()\n",
      "            (fc2): Conv2d(2048, 256, kernel_size=(1, 1), stride=(1, 1))\n",
      "            (drop): Dropout(p=0.0, inplace=False)\n",
      "          )\n",
      "        )\n",
      "      )\n",
      "      (4): MetaBlock(\n",
      "        (block): GASubBlock(\n",
      "          (norm1): BatchNorm2d(256, eps=1e-05, momentum=0.1, affine=True, track_running_stats=True)\n",
      "          (attn): SpatialAttention(\n",
      "            (proj_1): Conv2d(256, 256, kernel_size=(1, 1), stride=(1, 1))\n",
      "            (activation): GELU()\n",
      "            (spatial_gating_unit): AttentionModule(\n",
      "              (conv0): Conv2d(256, 256, kernel_size=(5, 5), stride=(1, 1), padding=(2, 2), groups=256)\n",
      "              (conv_spatial): Conv2d(256, 256, kernel_size=(7, 7), stride=(1, 1), padding=(9, 9), dilation=(3, 3), groups=256)\n",
      "              (conv1): Conv2d(256, 512, kernel_size=(1, 1), stride=(1, 1))\n",
      "            )\n",
      "            (proj_2): Conv2d(256, 256, kernel_size=(1, 1), stride=(1, 1))\n",
      "          )\n",
      "          (drop_path): DropPath()\n",
      "          (norm2): BatchNorm2d(256, eps=1e-05, momentum=0.1, affine=True, track_running_stats=True)\n",
      "          (mlp): MixMlp(\n",
      "            (fc1): Conv2d(256, 2048, kernel_size=(1, 1), stride=(1, 1))\n",
      "            (dwconv): DWConv(\n",
      "              (dwconv): Conv2d(2048, 2048, kernel_size=(3, 3), stride=(1, 1), padding=(1, 1), groups=2048)\n",
      "            )\n",
      "            (act): GELU()\n",
      "            (fc2): Conv2d(2048, 256, kernel_size=(1, 1), stride=(1, 1))\n",
      "            (drop): Dropout(p=0.0, inplace=False)\n",
      "          )\n",
      "        )\n",
      "      )\n",
      "      (5): MetaBlock(\n",
      "        (block): GASubBlock(\n",
      "          (norm1): BatchNorm2d(256, eps=1e-05, momentum=0.1, affine=True, track_running_stats=True)\n",
      "          (attn): SpatialAttention(\n",
      "            (proj_1): Conv2d(256, 256, kernel_size=(1, 1), stride=(1, 1))\n",
      "            (activation): GELU()\n",
      "            (spatial_gating_unit): AttentionModule(\n",
      "              (conv0): Conv2d(256, 256, kernel_size=(5, 5), stride=(1, 1), padding=(2, 2), groups=256)\n",
      "              (conv_spatial): Conv2d(256, 256, kernel_size=(7, 7), stride=(1, 1), padding=(9, 9), dilation=(3, 3), groups=256)\n",
      "              (conv1): Conv2d(256, 512, kernel_size=(1, 1), stride=(1, 1))\n",
      "            )\n",
      "            (proj_2): Conv2d(256, 256, kernel_size=(1, 1), stride=(1, 1))\n",
      "          )\n",
      "          (drop_path): DropPath()\n",
      "          (norm2): BatchNorm2d(256, eps=1e-05, momentum=0.1, affine=True, track_running_stats=True)\n",
      "          (mlp): MixMlp(\n",
      "            (fc1): Conv2d(256, 2048, kernel_size=(1, 1), stride=(1, 1))\n",
      "            (dwconv): DWConv(\n",
      "              (dwconv): Conv2d(2048, 2048, kernel_size=(3, 3), stride=(1, 1), padding=(1, 1), groups=2048)\n",
      "            )\n",
      "            (act): GELU()\n",
      "            (fc2): Conv2d(2048, 256, kernel_size=(1, 1), stride=(1, 1))\n",
      "            (drop): Dropout(p=0.0, inplace=False)\n",
      "          )\n",
      "        )\n",
      "      )\n",
      "      (6): MetaBlock(\n",
      "        (block): GASubBlock(\n",
      "          (norm1): BatchNorm2d(256, eps=1e-05, momentum=0.1, affine=True, track_running_stats=True)\n",
      "          (attn): SpatialAttention(\n",
      "            (proj_1): Conv2d(256, 256, kernel_size=(1, 1), stride=(1, 1))\n",
      "            (activation): GELU()\n",
      "            (spatial_gating_unit): AttentionModule(\n",
      "              (conv0): Conv2d(256, 256, kernel_size=(5, 5), stride=(1, 1), padding=(2, 2), groups=256)\n",
      "              (conv_spatial): Conv2d(256, 256, kernel_size=(7, 7), stride=(1, 1), padding=(9, 9), dilation=(3, 3), groups=256)\n",
      "              (conv1): Conv2d(256, 512, kernel_size=(1, 1), stride=(1, 1))\n",
      "            )\n",
      "            (proj_2): Conv2d(256, 256, kernel_size=(1, 1), stride=(1, 1))\n",
      "          )\n",
      "          (drop_path): DropPath()\n",
      "          (norm2): BatchNorm2d(256, eps=1e-05, momentum=0.1, affine=True, track_running_stats=True)\n",
      "          (mlp): MixMlp(\n",
      "            (fc1): Conv2d(256, 2048, kernel_size=(1, 1), stride=(1, 1))\n",
      "            (dwconv): DWConv(\n",
      "              (dwconv): Conv2d(2048, 2048, kernel_size=(3, 3), stride=(1, 1), padding=(1, 1), groups=2048)\n",
      "            )\n",
      "            (act): GELU()\n",
      "            (fc2): Conv2d(2048, 256, kernel_size=(1, 1), stride=(1, 1))\n",
      "            (drop): Dropout(p=0.0, inplace=False)\n",
      "          )\n",
      "        )\n",
      "      )\n",
      "      (7): MetaBlock(\n",
      "        (block): GASubBlock(\n",
      "          (norm1): BatchNorm2d(256, eps=1e-05, momentum=0.1, affine=True, track_running_stats=True)\n",
      "          (attn): SpatialAttention(\n",
      "            (proj_1): Conv2d(256, 256, kernel_size=(1, 1), stride=(1, 1))\n",
      "            (activation): GELU()\n",
      "            (spatial_gating_unit): AttentionModule(\n",
      "              (conv0): Conv2d(256, 256, kernel_size=(5, 5), stride=(1, 1), padding=(2, 2), groups=256)\n",
      "              (conv_spatial): Conv2d(256, 256, kernel_size=(7, 7), stride=(1, 1), padding=(9, 9), dilation=(3, 3), groups=256)\n",
      "              (conv1): Conv2d(256, 512, kernel_size=(1, 1), stride=(1, 1))\n",
      "            )\n",
      "            (proj_2): Conv2d(256, 256, kernel_size=(1, 1), stride=(1, 1))\n",
      "          )\n",
      "          (drop_path): Identity()\n",
      "          (norm2): BatchNorm2d(256, eps=1e-05, momentum=0.1, affine=True, track_running_stats=True)\n",
      "          (mlp): MixMlp(\n",
      "            (fc1): Conv2d(256, 2048, kernel_size=(1, 1), stride=(1, 1))\n",
      "            (dwconv): DWConv(\n",
      "              (dwconv): Conv2d(2048, 2048, kernel_size=(3, 3), stride=(1, 1), padding=(1, 1), groups=2048)\n",
      "            )\n",
      "            (act): GELU()\n",
      "            (fc2): Conv2d(2048, 256, kernel_size=(1, 1), stride=(1, 1))\n",
      "            (drop): Dropout(p=0.0, inplace=False)\n",
      "          )\n",
      "        )\n",
      "        (reduction): Conv2d(256, 640, kernel_size=(1, 1), stride=(1, 1))\n",
      "      )\n",
      "    )\n",
      "  )\n",
      ")\n",
      "| module                           | #parameters or shape   | #flops     |\n",
      "|:---------------------------------|:-----------------------|:-----------|\n",
      "| model                            | 18.604M                | 2.345G     |\n",
      "|  enc.enc                         |  0.113M                |  0.235G    |\n",
      "|   enc.enc.0.conv                 |   1.92K                |   20.972M  |\n",
      "|    enc.enc.0.conv.conv           |    1.792K              |    17.695M |\n",
      "|    enc.enc.0.conv.norm           |    0.128K              |    3.277M  |\n",
      "|   enc.enc.1.conv                 |   37.056K              |   95.191M  |\n",
      "|    enc.enc.1.conv.conv           |    36.928K             |    94.372M |\n",
      "|    enc.enc.1.conv.norm           |    0.128K              |    0.819M  |\n",
      "|   enc.enc.2.conv                 |   37.056K              |   95.191M  |\n",
      "|    enc.enc.2.conv.conv           |    36.928K             |    94.372M |\n",
      "|    enc.enc.2.conv.norm           |    0.128K              |    0.819M  |\n",
      "|   enc.enc.3.conv                 |   37.056K              |   23.798M  |\n",
      "|    enc.enc.3.conv.conv           |    36.928K             |    23.593M |\n",
      "|    enc.enc.3.conv.norm           |    0.128K              |    0.205M  |\n",
      "|  dec                             |  0.37M                 |  0.954G    |\n",
      "|   dec.dec                        |   0.37M                |   0.952G   |\n",
      "|    dec.dec.0.conv                |    0.148M              |    95.191M |\n",
      "|    dec.dec.1.conv                |    37.056K             |    95.191M |\n",
      "|    dec.dec.2.conv                |    0.148M              |    0.381G  |\n",
      "|    dec.dec.3.conv                |    37.056K             |    0.381G  |\n",
      "|   dec.readout                    |   0.195K               |   1.966M   |\n",
      "|    dec.readout.weight            |    (3, 64, 1, 1)       |            |\n",
      "|    dec.readout.bias              |    (3,)                |            |\n",
      "|  hid.enc                         |  18.121M               |  1.156G    |\n",
      "|   hid.enc.0                      |   8.468M               |   0.541G   |\n",
      "|    hid.enc.0.block               |    8.304M              |    0.53G   |\n",
      "|    hid.enc.0.reduction           |    0.164M              |    10.486M |\n",
      "|   hid.enc.1.block                |   1.356M               |   86.344M  |\n",
      "|    hid.enc.1.block.layer_scale_1 |    (256,)              |            |\n",
      "|    hid.enc.1.block.layer_scale_2 |    (256,)              |            |\n",
      "|    hid.enc.1.block.norm1         |    0.512K              |    32.768K |\n",
      "|    hid.enc.1.block.attn          |    0.283M              |    17.99M  |\n",
      "|    hid.enc.1.block.norm2         |    0.512K              |    32.768K |\n",
      "|    hid.enc.1.block.mlp           |    1.071M              |    68.289M |\n",
      "|   hid.enc.2.block                |   1.356M               |   86.344M  |\n",
      "|    hid.enc.2.block.layer_scale_1 |    (256,)              |            |\n",
      "|    hid.enc.2.block.layer_scale_2 |    (256,)              |            |\n",
      "|    hid.enc.2.block.norm1         |    0.512K              |    32.768K |\n",
      "|    hid.enc.2.block.attn          |    0.283M              |    17.99M  |\n",
      "|    hid.enc.2.block.norm2         |    0.512K              |    32.768K |\n",
      "|    hid.enc.2.block.mlp           |    1.071M              |    68.289M |\n",
      "|   hid.enc.3.block                |   1.356M               |   86.344M  |\n",
      "|    hid.enc.3.block.layer_scale_1 |    (256,)              |            |\n",
      "|    hid.enc.3.block.layer_scale_2 |    (256,)              |            |\n",
      "|    hid.enc.3.block.norm1         |    0.512K              |    32.768K |\n",
      "|    hid.enc.3.block.attn          |    0.283M              |    17.99M  |\n",
      "|    hid.enc.3.block.norm2         |    0.512K              |    32.768K |\n",
      "|    hid.enc.3.block.mlp           |    1.071M              |    68.289M |\n",
      "|   hid.enc.4.block                |   1.356M               |   86.344M  |\n",
      "|    hid.enc.4.block.layer_scale_1 |    (256,)              |            |\n",
      "|    hid.enc.4.block.layer_scale_2 |    (256,)              |            |\n",
      "|    hid.enc.4.block.norm1         |    0.512K              |    32.768K |\n",
      "|    hid.enc.4.block.attn          |    0.283M              |    17.99M  |\n",
      "|    hid.enc.4.block.norm2         |    0.512K              |    32.768K |\n",
      "|    hid.enc.4.block.mlp           |    1.071M              |    68.289M |\n",
      "|   hid.enc.5.block                |   1.356M               |   86.344M  |\n",
      "|    hid.enc.5.block.layer_scale_1 |    (256,)              |            |\n",
      "|    hid.enc.5.block.layer_scale_2 |    (256,)              |            |\n",
      "|    hid.enc.5.block.norm1         |    0.512K              |    32.768K |\n",
      "|    hid.enc.5.block.attn          |    0.283M              |    17.99M  |\n",
      "|    hid.enc.5.block.norm2         |    0.512K              |    32.768K |\n",
      "|    hid.enc.5.block.mlp           |    1.071M              |    68.289M |\n",
      "|   hid.enc.6.block                |   1.356M               |   86.344M  |\n",
      "|    hid.enc.6.block.layer_scale_1 |    (256,)              |            |\n",
      "|    hid.enc.6.block.layer_scale_2 |    (256,)              |            |\n",
      "|    hid.enc.6.block.norm1         |    0.512K              |    32.768K |\n",
      "|    hid.enc.6.block.attn          |    0.283M              |    17.99M  |\n",
      "|    hid.enc.6.block.norm2         |    0.512K              |    32.768K |\n",
      "|    hid.enc.6.block.mlp           |    1.071M              |    68.289M |\n",
      "|   hid.enc.7                      |   1.52M                |   96.829M  |\n",
      "|    hid.enc.7.block               |    1.356M              |    86.344M |\n",
      "|    hid.enc.7.reduction           |    0.164M              |    10.486M |\n",
      "--------------------------------------------------------------------------------\n",
      "\n"
     ]
    }
   ],
   "source": [
    "from openstl.api import BaseExperiment\n",
    "from openstl.utils import create_parser\n",
    "\n",
    "args = create_parser().parse_args([])\n",
    "config = args.__dict__\n",
    "\n",
    "# update the training config\n",
    "config.update(custom_training_config)\n",
    "# update the model config\n",
    "config.update(custom_model_config)\n",
    "\n",
    "exp = BaseExperiment(args, dataloaders=(dataloader_train, dataloader_val, dataloader_test))"
   ]
  },
  {
   "attachments": {},
   "cell_type": "markdown",
   "metadata": {},
   "source": [
    "### 3.3 Start training and evaluation\n",
    "\n",
    "With everything in place, we are now ready to start training and evaluation. \n",
    "\n",
    "Here we go!"
   ]
  },
  {
   "cell_type": "code",
   "execution_count": 13,
   "metadata": {},
   "outputs": [
    {
     "name": "stdout",
     "output_type": "stream",
     "text": [
      ">>>>>>>>>>>>>>>>>>>>>>>>>>>>>>>>>>> training <<<<<<<<<<<<<<<<<<<<<<<<<<<<<<<<<<<\n"
     ]
    },
    {
     "name": "stderr",
     "output_type": "stream",
     "text": [
      "train loss: 0.0783 | data time: 0.0029: 100%|██████████| 2/2 [00:00<00:00,  6.82it/s]"
     ]
    },
    {
     "name": "stdout",
     "output_type": "stream",
     "text": [
      "[>>>>>>>>>>>>>>>>>>>>>>>>>>>>>>>>>>] 2/2, 43.1 task/s, elapsed: 0s, ETA:     0sval\t mse:577.9671020507812, mae:988.0562133789062\n",
      "[2023-06-28 02:05:23] \u001b[32mIntermediate result: 577.9671020507812  (Index 0)\u001b[0m\n"
     ]
    },
    {
     "name": "stderr",
     "output_type": "stream",
     "text": [
      "\n",
      "/root/anaconda3/envs/MetaVP/lib/python3.9/site-packages/json_tricks/encoders.py:367: UserWarning: json-tricks: numpy scalar serialization is experimental and may work differently in future versions\n",
      "  warnings.warn('json-tricks: numpy scalar serialization is experimental and may work differently in future versions')\n"
     ]
    },
    {
     "name": "stdout",
     "output_type": "stream",
     "text": [
      "Epoch: 1, Steps: 2 | Lr: 0.0008117 | Train Loss: 0.0925540 | Vali Loss: 0.1881403\n",
      "\n",
      "Validation loss decreased (inf --> 0.188140).  Saving model ...\n"
     ]
    },
    {
     "name": "stderr",
     "output_type": "stream",
     "text": [
      "train loss: 0.0621 | data time: 0.0064: 100%|██████████| 2/2 [00:00<00:00, 14.81it/s]"
     ]
    },
    {
     "name": "stdout",
     "output_type": "stream",
     "text": [
      "[>>>>>>>>>>>>>>>>>                 ] 1/2, 35.2 task/s, elapsed: 0s, ETA:     0s"
     ]
    },
    {
     "name": "stderr",
     "output_type": "stream",
     "text": [
      "\n"
     ]
    },
    {
     "name": "stdout",
     "output_type": "stream",
     "text": [
      "[>>>>>>>>>>>>>>>>>>>>>>>>>>>>>>>>>>] 2/2, 18.5 task/s, elapsed: 0s, ETA:     0sval\t mse:130.25579833984375, mae:532.03125\n",
      "[2023-06-28 02:05:24] \u001b[32mIntermediate result: 130.25579833984375  (Index 1)\u001b[0m\n",
      "Epoch: 2, Steps: 2 | Lr: 0.0001335 | Train Loss: 0.1252185 | Vali Loss: 0.0424010\n",
      "\n",
      "Validation loss decreased (0.188140 --> 0.042401).  Saving model ...\n"
     ]
    },
    {
     "name": "stderr",
     "output_type": "stream",
     "text": [
      "train loss: 0.0414 | data time: 0.0207: 100%|██████████| 2/2 [00:00<00:00,  9.02it/s]"
     ]
    },
    {
     "name": "stdout",
     "output_type": "stream",
     "text": [
      "[>>>>>>>>>>>>>>>>>>>>>>>>>>>>>>>>>>] 2/2, 67.1 task/s, elapsed: 0s, ETA:     0sval\t mse:122.76216125488281, mae:516.6934204101562\n",
      "[2023-06-28 02:05:25] \u001b[32mIntermediate result: 122.76216125488281  (Index 2)\u001b[0m\n"
     ]
    },
    {
     "name": "stderr",
     "output_type": "stream",
     "text": [
      "\n"
     ]
    },
    {
     "name": "stdout",
     "output_type": "stream",
     "text": [
      "Epoch: 3, Steps: 2 | Lr: 0.0001335 | Train Loss: 0.0426705 | Vali Loss: 0.0399616\n",
      "\n",
      "Validation loss decreased (0.042401 --> 0.039962).  Saving model ...\n",
      ">>>>>>>>>>>>>>>>>>>>>>>>>>>>>>>>>>> testing  <<<<<<<<<<<<<<<<<<<<<<<<<<<<<<<<<<<\n",
      "[>>>>>>>>>>>>>>>>>>>>>>>>>>>>>>>>>>] 1/1, 61.4 task/s, elapsed: 0s, ETA:     0smse:121.41651916503906, mae:513.7880859375\n"
     ]
    },
    {
     "data": {
      "text/plain": [
       "121.41652"
      ]
     },
     "execution_count": 13,
     "metadata": {},
     "output_type": "execute_result"
    }
   ],
   "source": [
    "print('>'*35 + ' training ' + '<'*35)\n",
    "exp.train()\n",
    "\n",
    "print('>'*35 + ' testing  ' + '<'*35)\n",
    "exp.test()"
   ]
  },
  {
   "attachments": {},
   "cell_type": "markdown",
   "metadata": {},
   "source": [
    "## Visualization\n",
    "\n",
    "By employing the `show_video_line` and `show_video_gif_multiple` functions provided by `OpenSTL`, we can visualize the input, ground truth, and predicted frames, as well as generate corresponding GIFs."
   ]
  },
  {
   "attachments": {},
   "cell_type": "markdown",
   "metadata": {},
   "source": [
    "### 4.1 Visualize in a line"
   ]
  },
  {
   "cell_type": "code",
   "execution_count": null,
   "metadata": {},
   "outputs": [],
   "source": [
    "import numpy as np\n",
    "from openstl.utils import show_video_line\n",
    "\n",
    "# show the given frames from an example\n",
    "inputs = np.load('./work_dirs/custom_exp/saved/inputs.npy')\n",
    "preds = np.load('./work_dirs/custom_exp/saved/preds.npy')\n",
    "trues = np.load('./work_dirs/custom_exp/saved/trues.npy')\n",
    "\n",
    "example_idx = 0\n",
    "show_video_line(trues[example_idx], ncols=aft_seq_length, vmax=0.6, cbar=False, out_path=None, format='png', use_rgb=True)"
   ]
  },
  {
   "cell_type": "code",
   "execution_count": null,
   "metadata": {},
   "outputs": [],
   "source": [
    "example_idx = 0\n",
    "show_video_line(preds[example_idx], ncols=aft_seq_length, vmax=0.6, cbar=False, out_path=None, format='png', use_rgb=True)"
   ]
  },
  {
   "attachments": {},
   "cell_type": "markdown",
   "metadata": {},
   "source": [
    "### 4.2 Generate a GIF"
   ]
  },
  {
   "cell_type": "code",
   "execution_count": null,
   "metadata": {},
   "outputs": [],
   "source": [
    "from openstl.utils import show_video_gif_multiple\n",
    "\n",
    "example_idx = 0\n",
    "show_video_gif_multiple(inputs[example_idx], trues[example_idx], preds[example_idx], use_rgb=True, out_path='example.gif')"
   ]
  }
 ],
 "metadata": {
  "kernelspec": {
   "display_name": "MetaVP",
   "language": "python",
   "name": "python3"
  },
  "language_info": {
   "codemirror_mode": {
    "name": "ipython",
    "version": 3
   },
   "file_extension": ".py",
   "mimetype": "text/x-python",
   "name": "python",
   "nbconvert_exporter": "python",
   "pygments_lexer": "ipython3",
   "version": "3.9.9"
  },
  "orig_nbformat": 4
 },
 "nbformat": 4,
 "nbformat_minor": 2
}
